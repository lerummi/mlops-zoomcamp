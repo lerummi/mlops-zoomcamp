{
 "cells": [
  {
   "cell_type": "markdown",
   "id": "3eb151df-c3b6-495b-a112-965981300c5b",
   "metadata": {},
   "source": [
    "# Homework\n",
    "\n",
    "The goal of this homework is to get familiar with tools like MLflow for experiment tracking and model management."
   ]
  },
  {
   "cell_type": "code",
   "execution_count": null,
   "id": "41062d8a",
   "metadata": {},
   "outputs": [],
   "source": [
    "import os\n",
    "import mlflow\n",
    "from pathlib import Path"
   ]
  },
  {
   "cell_type": "code",
   "execution_count": null,
   "id": "c8a8270b-8d0b-4fa6-9106-2784b0803f8f",
   "metadata": {},
   "outputs": [],
   "source": [
    "MLFLOW_TRACKING_URI = os.environ[\"MLFLOW_TRACKING_URI\"]\n",
    "DATA_DIR = Path(os.environ[\"DATA_DIR\"])\n",
    "MODELS_DIR = Path(os.environ[\"MODELS_DIR\"])"
   ]
  },
  {
   "cell_type": "markdown",
   "id": "3077b659-c103-4251-a7c1-cb1f2d9e08d6",
   "metadata": {},
   "source": [
    "## Q1. Install the package\n",
    "\n",
    "To get started with MLflow you'll need to install the appropriate Python package.\n",
    "\n",
    "For this we recommend creating a separate Python environment, for example, you can use conda environments, and then install the package there with pip or conda.\n",
    "\n",
    "Once you installed the package, run the command `mlflow --version` and check the output.\n",
    "\n",
    "What's the version that you have?"
   ]
  },
  {
   "cell_type": "code",
   "execution_count": null,
   "id": "0381c164-4edf-431f-9b74-1bad2b525f89",
   "metadata": {},
   "outputs": [],
   "source": [
    "mlflow.__version__"
   ]
  },
  {
   "cell_type": "markdown",
   "id": "51bd5ee9-848b-46ba-85e6-11a0de51d412",
   "metadata": {},
   "source": [
    "## Q2. Download and preprocess the data\n",
    "\n",
    "We'll use the Green Taxi Trip Records dataset to predict the amount of tips for each trip.\n",
    "\n",
    "Download the data for January, February and March 2022 in parquet format from [here](https://www1.nyc.gov/site/tlc/about/tlc-trip-record-data.page).\n",
    "\n",
    "Use the script `preprocess_data.py` located in the folder [homework](https://github.com/lerummi/mlops-zoomcamp/blob/main/cohorts/2023/02-experiment-tracking/homework) to preprocess the data.\n",
    "\n",
    "The script will:\n",
    "\n",
    "- load the data from the folder <TAXI_DATA_FOLDER> (the folder where you have downloaded the data),\n",
    "- fit a DictVectorizer on the training set (January 2022 data),\n",
    "- save the preprocessed datasets and the DictVectorizer to disk.\n",
    "\n",
    "Your task is to download the datasets and then execute this command:\n",
    "\n",
    "```\n",
    "python preprocess_data.py --raw_data_path <TAXI_DATA_FOLDER> --dest_path ./output\n",
    "```"
   ]
  },
  {
   "cell_type": "code",
   "execution_count": null,
   "id": "853eba14-5ff9-41ab-b48e-8e1e6388c4e7",
   "metadata": {},
   "outputs": [],
   "source": [
    "!python preprocess_data.py --raw_data_path $DATA_DIR --dest_path ./output"
   ]
  },
  {
   "cell_type": "markdown",
   "id": "f89ab894-1bc1-4fcf-82e9-3a1f0fda02e4",
   "metadata": {},
   "source": [
    "Tip: go to 02-experiment-tracking/homework/ folder before executing the command and change the value of <TAXI_DATA_FOLDER> to the location where you saved the data.\n",
    "\n",
    "So what's the size of the saved DictVectorizer file?"
   ]
  },
  {
   "cell_type": "code",
   "execution_count": null,
   "id": "ccf82b4b-13d8-40e4-b65b-57e51e19db01",
   "metadata": {},
   "outputs": [],
   "source": [
    "size_in_kb = Path(\"./output/dv.pkl\").stat().st_size / 1000\n",
    "size_in_kb"
   ]
  },
  {
   "cell_type": "markdown",
   "id": "93b314ec-268d-4cb0-8366-25cfaaf26820",
   "metadata": {},
   "source": [
    "## Q3. Train a model with autolog\n",
    "\n",
    "We will train a `RandomForestRegressor` (from Scikit-Learn) on the taxi dataset.\n",
    "\n",
    "We have prepared the training script `train.py` for this exercise, which can be also found in the folder `homework`.\n",
    "\n",
    "The script will:\n",
    "\n",
    "- load the datasets produced by the previous step,\n",
    "- train the model on the training set,\n",
    "- calculate the RMSE score on the validation set.\n",
    "\n",
    "Your task is to modify the script to enable **autologging** with MLflow, execute the script and then launch the MLflow UI to check that the experiment run was properly tracked.\n"
   ]
  },
  {
   "cell_type": "code",
   "execution_count": null,
   "id": "6d1730e9-94d1-452c-ad17-c53fb94c3e11",
   "metadata": {},
   "outputs": [],
   "source": [
    "mlflow.set_tracking_uri(MLFLOW_TRACKING_URI)\n",
    "mlflow.set_experiment(\"nyc-taxi-experiment-02-homework\")\n",
    "\n",
    "!python train.py --data_path ./output"
   ]
  },
  {
   "cell_type": "markdown",
   "id": "5545f8bc-03fc-438b-a53b-fae826f96d62",
   "metadata": {},
   "source": [
    "Tip 1: don't forget to wrap the training code with a with `mlflow.start_run()`: statement as we showed in the videos.\n",
    "\n",
    "Tip 2: don't modify the hyperparameters of the model to make sure that the training will finish quickly.\n",
    "\n",
    "What is the value of the `max_depth` parameter:"
   ]
  },
  {
   "cell_type": "markdown",
   "id": "76e4f649-7186-422b-ad54-dc1e401950a6",
   "metadata": {},
   "source": [
    "![MLFlow UI](mlflow-ui-screenshot.png)"
   ]
  },
  {
   "cell_type": "markdown",
   "id": "cd0dfff5-149d-4257-91d8-1c0751e3e6ea",
   "metadata": {},
   "source": [
    "## Q4. Tune model hyperparameters\n",
    "\n",
    "Now let's try to reduce the validation error by tuning the hyperparameters of the `RandomForestRegressor` using `optuna`. We have prepared the script `hpo.py` for this exercise.\n",
    "\n",
    "Your task is to modify the script hpo.py and make sure that the validation RMSE is logged to the tracking server for each run of the hyperparameter optimization (you will need to add a few lines of code to the `objective` function) and run the script without passing any parameters.\n",
    "\n",
    "After that, open UI and explore the runs from the experiment called `random-forest-hyperopt` to answer the question below.\n",
    "\n",
    "Note: Don't use autologging for this exercise.\n",
    "\n",
    "The idea is to just log the information that you need to answer the question below, including:\n",
    "\n",
    "- the list of hyperparameters that are passed to the `objective` function during the optimization,\n",
    "- the RMSE obtained on the validation set (February 2022 data).\n",
    "\n",
    "What's the best validation RMSE that you got?\n",
    "\n",
    "**Comment Logging did not work in the function, instead through an api error, so I isolated the function**"
   ]
  },
  {
   "cell_type": "code",
   "execution_count": null,
   "id": "5c8b957f-1e98-4132-883e-9ca2d21e3c07",
   "metadata": {},
   "outputs": [],
   "source": [
    "import optuna\n",
    "from hpo import load_pickle\n",
    "from optuna.samplers import TPESampler\n",
    "from sklearn.ensemble import RandomForestRegressor\n",
    "from sklearn.metrics import mean_squared_error"
   ]
  },
  {
   "cell_type": "code",
   "execution_count": null,
   "id": "fc4d5283",
   "metadata": {},
   "outputs": [],
   "source": [
    "mlflow.sklearn.autolog(disable=True)\n",
    "mlflow.set_experiment(\"random-forest-hyperopt\")\n",
    "\n",
    "data_path = \"./output\"\n",
    "\n",
    "X_train, y_train = load_pickle(os.path.join(data_path, \"train.pkl\"))\n",
    "X_val, y_val = load_pickle(os.path.join(data_path, \"val.pkl\"))\n",
    "\n",
    "def objective(trial):\n",
    "    \n",
    "    with mlflow.start_run():\n",
    "        params = {\n",
    "            'n_estimators': trial.suggest_int('n_estimators', 10, 50, 1),\n",
    "            'max_depth': trial.suggest_int('max_depth', 1, 20, 1),\n",
    "            'min_samples_split': trial.suggest_int('min_samples_split', 2, 10, 1),\n",
    "            'min_samples_leaf': trial.suggest_int('min_samples_leaf', 1, 4, 1),\n",
    "            'random_state': 42,\n",
    "            'n_jobs': -1\n",
    "        }\n",
    "\n",
    "        rf = RandomForestRegressor(**params)\n",
    "        rf.fit(X_train, y_train)\n",
    "        y_pred = rf.predict(X_val)\n",
    "        rmse = mean_squared_error(y_val, y_pred, squared=False)\n",
    "\n",
    "        mlflow.log_metric(\"rmse\", rmse)\n",
    "        mlflow.log_params(params)\n",
    "\n",
    "        return rmse\n",
    "\n",
    "sampler = TPESampler(seed=42)\n",
    "study = optuna.create_study(direction=\"minimize\", sampler=sampler)\n",
    "study.optimize(objective, n_trials=10)"
   ]
  },
  {
   "cell_type": "markdown",
   "id": "65d813b4-7ffe-40d6-8fb4-2ba0153e41cf",
   "metadata": {},
   "source": [
    "![MLFlow UI](mlflow-ui-hyperopt.png)"
   ]
  },
  {
   "cell_type": "markdown",
   "id": "66c6adba-e350-44b7-be2c-efae563cef98",
   "metadata": {},
   "source": [
    "## Q5. Promote the best model to the model registry"
   ]
  },
  {
   "cell_type": "markdown",
   "id": "8a3b57a8-8e8e-480e-9d24-4c2476d81348",
   "metadata": {},
   "source": [
    "The results from the hyperparameter optimization are quite good. So, we can assume that we are ready to test some of \n",
    "these models in production. In this exercise, you'll promote the best model to the model registry. We have prepared a \n",
    "script called `register_model.py`, which will check the results from the previous step and select the top 5 runs. \n",
    "After that, it will calculate the RMSE of those models on the test set (March 2022 data) and save the results to a new \n",
    "experiment called `random-forest-best-models`.\n",
    "\n",
    "Your task is to update the script `register_model.py` so that it selects the model with the lowest RMSE on the test set \n",
    "and registers it to the model registry.\n",
    "\n",
    "Tips for MLflow:\n",
    "\n",
    "- you can use the method `search_runs` from the `MlflowClient` to get the model with the lowest RMSE,\n",
    "- to register the model you can use the method `mlflow.register_model` and you will need to pass the right model_uri in the form of a string that looks like this: `\"runs:/<RUN_ID>/model\"`, and the name of the model (make sure to choose a good one!).\n",
    "\n",
    "**Comment Logging did not work in the function, instead through an api error, so I isolated the function**"
   ]
  },
  {
   "cell_type": "code",
   "execution_count": null,
   "id": "339d964a-1f81-4f88-9b6e-4a58108b9e56",
   "metadata": {},
   "outputs": [],
   "source": [
    "import os\n",
    "import pickle\n",
    "\n",
    "from mlflow.entities import ViewType\n",
    "from mlflow.tracking import MlflowClient\n",
    "from sklearn.ensemble import RandomForestRegressor\n",
    "from sklearn.metrics import mean_squared_error\n",
    "\n",
    "from register_model import train_and_log_model\n",
    "\n",
    "HPO_EXPERIMENT_NAME = \"random-forest-hyperopt\"\n",
    "EXPERIMENT_NAME = \"random-forest-best-models\"\n",
    "RF_PARAMS = ['max_depth', 'n_estimators', 'min_samples_split', 'min_samples_leaf', 'random_state', 'n_jobs']\n",
    "\n",
    "mlflow.set_tracking_uri(MLFLOW_TRACKING_URI)\n",
    "mlflow.set_experiment(EXPERIMENT_NAME)\n",
    "mlflow.sklearn.autolog()\n",
    "\n",
    "\n",
    "def run_register_model(data_path: str, top_n: int):\n",
    "\n",
    "    client = MlflowClient(MLFLOW_TRACKING_URI)\n",
    "\n",
    "    # Retrieve the top_n model runs and log the models\n",
    "    experiment = client.get_experiment_by_name(HPO_EXPERIMENT_NAME)\n",
    "    runs = client.search_runs(\n",
    "        experiment_ids=experiment.experiment_id,\n",
    "        run_view_type=ViewType.ACTIVE_ONLY,\n",
    "        max_results=top_n,\n",
    "        order_by=[\"metrics.rmse ASC\"]\n",
    "    )\n",
    "\n",
    "    print(\"Selected best runs:\")\n",
    "    for run in runs:\n",
    "        print(run.info.run_name)\n",
    "        train_and_log_model(data_path=data_path, params=run.data.params)\n",
    "\n",
    "    # Select the model with the lowest test RMSE\n",
    "    experiment = client.get_experiment_by_name(EXPERIMENT_NAME)\n",
    "    best_run = client.search_runs(\n",
    "        experiment_ids=experiment.experiment_id,\n",
    "        run_view_type=ViewType.ACTIVE_ONLY,\n",
    "        order_by=[\"metrics.test_rmse ASC\"]\n",
    "    )[0]\n",
    "\n",
    "    print(f\"Best run name = {best_run.info.run_name}\")\n",
    "    print(f\"Best run id = {best_run.info.run_id}\")\n",
    "    \n",
    "    # Register the best model\n",
    "    mlflow.register_model(\n",
    "        model_uri=f\"runs:/{best_run.info.run_id}/model\",\n",
    "        name=\"nyc-taxi-green\"\n",
    "    )       "
   ]
  },
  {
   "cell_type": "code",
   "execution_count": null,
   "id": "87266219-310d-4ca6-90b4-92e804a34890",
   "metadata": {},
   "outputs": [],
   "source": [
    "run_register_model(\"./output\", 5)"
   ]
  },
  {
   "cell_type": "markdown",
   "id": "58622973-cf76-493d-a828-c313a8601b1d",
   "metadata": {},
   "source": [
    "What is the test RMSE of the best model?"
   ]
  },
  {
   "cell_type": "markdown",
   "id": "0c216f81-c5c6-4fbe-b70e-6ca43cd17529",
   "metadata": {},
   "source": [
    "![MLFlow UI](mlflow-ui-registered.png)"
   ]
  },
  {
   "cell_type": "markdown",
   "id": "a5564e9c-7df8-4450-9ce7-6c033e0e4c2f",
   "metadata": {},
   "source": [
    "## Q6. Model metadata"
   ]
  },
  {
   "cell_type": "markdown",
   "id": "0683c2ed-582b-43d9-83f9-690bed9e1bb1",
   "metadata": {},
   "source": [
    "Now explore your best model in the model registry using UI. What information does the model registry contain about each model?\n",
    "\n",
    "- Version number **YES**\n",
    "- Source experiment **YES (source experiment id)**\n",
    "- Model signature **YES**\n",
    "- All the above answers are correct **YES**"
   ]
  },
  {
   "cell_type": "markdown",
   "id": "0f1fc79a-a652-4358-b1b0-692318972dd5",
   "metadata": {},
   "source": [
    "![MLFlow UI](mlflow-ui-info.png)"
   ]
  },
  {
   "cell_type": "code",
   "execution_count": null,
   "id": "3ce66c09-ae3b-42cb-8abd-58576dbcf768",
   "metadata": {},
   "outputs": [],
   "source": []
  }
 ],
 "metadata": {
  "interpreter": {
   "hash": "0848c9d6c7d415ad6c477ff7ff8e98694d1a4aa96d0deee89244642e6b630036"
  },
  "kernelspec": {
   "display_name": "Python 3 (ipykernel)",
   "language": "python",
   "name": "python3"
  },
  "language_info": {
   "codemirror_mode": {
    "name": "ipython",
    "version": 3
   },
   "file_extension": ".py",
   "mimetype": "text/x-python",
   "name": "python",
   "nbconvert_exporter": "python",
   "pygments_lexer": "ipython3",
   "version": "3.10.8"
  }
 },
 "nbformat": 4,
 "nbformat_minor": 5
}
