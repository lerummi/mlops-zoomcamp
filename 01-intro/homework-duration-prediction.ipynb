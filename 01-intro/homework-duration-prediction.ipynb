{
 "cells": [
  {
   "cell_type": "code",
   "execution_count": null,
   "id": "df48c423-1b94-4b90-be09-361d786af608",
   "metadata": {},
   "outputs": [],
   "source": [
    "import os\n",
    "import pandas\n",
    "import numpy as np\n",
    "from pathlib import Path\n",
    "from sklearn.feature_extraction import DictVectorizer\n",
    "from sklearn.linear_model import LinearRegression\n",
    "from sklearn.metrics import mean_squared_error"
   ]
  },
  {
   "cell_type": "code",
   "execution_count": null,
   "id": "3924ce99-e8dc-41cf-94e7-74a408ed3a8f",
   "metadata": {},
   "outputs": [],
   "source": [
    "source = Path(os.environ[\"DATA_DIR\"])\n",
    "vect = DictVectorizer(sparse=True)\n",
    "\n",
    "\n",
    "def load_data(file):\n",
    "    return pandas.read_parquet(\n",
    "        source / file\n",
    "    )\n",
    "\n",
    "\n",
    "def duration_to_min(X):\n",
    "    X[\"duration\"] = (\n",
    "        X[\"tpep_dropoff_datetime\"] - X[\"tpep_pickup_datetime\"]\n",
    "    ).dt.total_seconds() / 60\n",
    "    return X\n",
    "\n",
    "\n",
    "def preprocess(X, fit=True):\n",
    "    text = X[[\"PULocationID\", \"DOLocationID\"]].astype(str).to_dict(\"records\")\n",
    "    if fit:\n",
    "        return vect.fit_transform(text)\n",
    "    else:\n",
    "        return vect.transform(text)"
   ]
  },
  {
   "cell_type": "markdown",
   "id": "d96cccf2-612f-4609-8ced-880a5a2948d9",
   "metadata": {},
   "source": [
    "Read in the January data and count number of columns"
   ]
  },
  {
   "cell_type": "code",
   "execution_count": null,
   "id": "7f2bd352-3e86-4da5-926e-a6d36c2ad9c9",
   "metadata": {},
   "outputs": [],
   "source": [
    "for file in os.listdir(source):\n",
    "    if \"2022-01\" in file:\n",
    "        X = load_data(file)\n",
    "len(X.columns)"
   ]
  },
  {
   "cell_type": "markdown",
   "id": "96bf3b41-7b01-4f4f-9579-b231bc85e2ee",
   "metadata": {},
   "source": [
    "Compute duration variable in min of a ride and the std"
   ]
  },
  {
   "cell_type": "code",
   "execution_count": null,
   "id": "89f8311e-4140-4c0b-83c6-8a8d3418da88",
   "metadata": {},
   "outputs": [],
   "source": [
    "X = duration_to_min(X)\n",
    "X[\"duration\"].std()"
   ]
  },
  {
   "cell_type": "markdown",
   "id": "2e05afab-fba7-4d23-99bd-cc752fcc7dd7",
   "metadata": {},
   "source": [
    "Duration statistics: Outliers"
   ]
  },
  {
   "cell_type": "code",
   "execution_count": null,
   "id": "e07a973e-d388-431a-ba3c-5a5171b5a49b",
   "metadata": {},
   "outputs": [],
   "source": [
    "# Calculate multiple percentiles\n",
    "percentiles = np.arange(0.1, 1, 0.1)\n",
    "result = X[\"duration\"].describe(percentiles=percentiles)\n",
    "\n",
    "print(result)"
   ]
  },
  {
   "cell_type": "code",
   "execution_count": null,
   "id": "66a027e3-1890-4332-8051-ef87748ccee9",
   "metadata": {},
   "outputs": [],
   "source": [
    "n_total = len(X)\n",
    "X = X.query(\"duration.between(1, 60)\", engine=\"python\")\n",
    "len(X) / n_total"
   ]
  },
  {
   "cell_type": "code",
   "execution_count": null,
   "id": "52579ace-c39e-4133-bc35-58fbbbc0b6a2",
   "metadata": {},
   "outputs": [],
   "source": [
    "Xt = preprocess(X, fit=True)\n",
    "y = X.pop(\"duration\")"
   ]
  },
  {
   "cell_type": "markdown",
   "id": "8fa2de21-c458-458e-9e7a-cc430d7a86b0",
   "metadata": {},
   "source": [
    "Number of columns"
   ]
  },
  {
   "cell_type": "code",
   "execution_count": null,
   "id": "f162f209-de9e-46a3-a41d-f9a859a6ef16",
   "metadata": {},
   "outputs": [],
   "source": [
    "Xt"
   ]
  },
  {
   "cell_type": "markdown",
   "id": "0c44d06f-feb2-44b2-906a-53bc0df7488d",
   "metadata": {},
   "source": [
    "Train Linear Regression model and train "
   ]
  },
  {
   "cell_type": "code",
   "execution_count": null,
   "id": "2d4a58c8-edf8-4436-8c94-8ce8a7612855",
   "metadata": {},
   "outputs": [],
   "source": [
    "rgs = LinearRegression()\n",
    "rgs.fit(Xt, y)\n",
    "ypred = rgs.predict(Xt)"
   ]
  },
  {
   "cell_type": "code",
   "execution_count": null,
   "id": "446278af-0e39-4f6b-b4fe-35adb330a93f",
   "metadata": {},
   "outputs": [],
   "source": [
    "mean_squared_error(y, ypred, squared=False)"
   ]
  },
  {
   "cell_type": "markdown",
   "id": "351d9633-e0f5-400e-a06e-412b41613915",
   "metadata": {},
   "source": [
    "Load in test data from February."
   ]
  },
  {
   "cell_type": "code",
   "execution_count": null,
   "id": "91b3eba3-d849-4d02-a820-908e5f1c6d8c",
   "metadata": {},
   "outputs": [],
   "source": [
    "for file in os.listdir(source):\n",
    "    if \"2022-02\" in file:\n",
    "        Xtest = load_data(file)"
   ]
  },
  {
   "cell_type": "code",
   "execution_count": null,
   "id": "3a62757a-cc64-420c-ab36-365e707759fc",
   "metadata": {},
   "outputs": [],
   "source": [
    "Xtest = duration_to_min(Xtest)\n",
    "Xtest = Xtest.query(\"duration.between(1, 60)\", engine=\"python\")\n",
    "ytest = Xtest.pop(\"duration\")\n",
    "Xtest = preprocess(Xtest, fit=False)"
   ]
  },
  {
   "cell_type": "code",
   "execution_count": null,
   "id": "84756f68-bdf9-4797-aabe-5d5aa8b08d06",
   "metadata": {},
   "outputs": [],
   "source": [
    "ypred = rgs.predict(Xtest)"
   ]
  },
  {
   "cell_type": "markdown",
   "id": "81d5060d-91e1-46a4-aa5d-cb7232336fe0",
   "metadata": {},
   "source": [
    "Compute RMS against test set"
   ]
  },
  {
   "cell_type": "code",
   "execution_count": null,
   "id": "c9fe27ac-293e-4f68-99f6-a4fe89b2dd08",
   "metadata": {},
   "outputs": [],
   "source": [
    "mean_squared_error(ytest, ypred, squared=False)"
   ]
  },
  {
   "cell_type": "code",
   "execution_count": null,
   "id": "a42b73e9-f261-4752-9dc2-62e4a3f2799b",
   "metadata": {},
   "outputs": [],
   "source": []
  }
 ],
 "metadata": {
  "kernelspec": {
   "display_name": "Python 3 (ipykernel)",
   "language": "python",
   "name": "python3"
  },
  "language_info": {
   "codemirror_mode": {
    "name": "ipython",
    "version": 3
   },
   "file_extension": ".py",
   "mimetype": "text/x-python",
   "name": "python",
   "nbconvert_exporter": "python",
   "pygments_lexer": "ipython3",
   "version": "3.10.8"
  }
 },
 "nbformat": 4,
 "nbformat_minor": 5
}
